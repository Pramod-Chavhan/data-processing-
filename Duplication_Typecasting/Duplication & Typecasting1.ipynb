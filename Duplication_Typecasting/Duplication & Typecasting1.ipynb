{
 "cells": [
  {
   "cell_type": "markdown",
   "id": "bd2295ad",
   "metadata": {},
   "source": [
    "# Duplication & Typecasting\n",
    "## Typecasting"
   ]
  },
  {
   "cell_type": "code",
   "execution_count": 1,
   "id": "20185b50",
   "metadata": {},
   "outputs": [],
   "source": [
    "import pandas as pd\n",
    "import numpy as np"
   ]
  },
  {
   "cell_type": "code",
   "execution_count": 2,
   "id": "77ea982b",
   "metadata": {},
   "outputs": [
    {
     "name": "stdout",
     "output_type": "stream",
     "text": [
      "  InvoiceNo StockCode                          Description  Quantity  \\\n",
      "0    536365    85123A   WHITE HANGING HEART T-LIGHT HOLDER         6   \n",
      "1    536365     71053                  WHITE METAL LANTERN         6   \n",
      "2    536365    84406B       CREAM CUPID HEARTS COAT HANGER         8   \n",
      "3    536365    84029G  KNITTED UNION FLAG HOT WATER BOTTLE         6   \n",
      "4    536365    84029E       RED WOOLLY HOTTIE WHITE HEART.         6   \n",
      "\n",
      "      InvoiceDate  UnitPrice  CustomerID         Country  \n",
      "0  12/1/2010 8:26       2.55     17850.0  United Kingdom  \n",
      "1  12/1/2010 8:26       3.39     17850.0  United Kingdom  \n",
      "2  12/1/2010 8:26       2.75     17850.0  United Kingdom  \n",
      "3  12/1/2010 8:26       3.39     17850.0  United Kingdom  \n",
      "4  12/1/2010 8:26       3.39     17850.0  United Kingdom  \n"
     ]
    }
   ],
   "source": [
    "OnlineRetail = pd.read_csv(r\"C:\\Users\\D\\Desktop\\New Assignments  Keys\\Datasets\\OnlineRetail.csv\",encoding='unicode_escape')\n",
    "print(OnlineRetail.head())"
   ]
  },
  {
   "cell_type": "code",
   "execution_count": 3,
   "id": "5a3b07bb",
   "metadata": {},
   "outputs": [
    {
     "data": {
      "text/plain": [
       "InvoiceNo       object\n",
       "StockCode       object\n",
       "Description     object\n",
       "Quantity         int64\n",
       "InvoiceDate     object\n",
       "UnitPrice      float64\n",
       "CustomerID     float64\n",
       "Country         object\n",
       "dtype: object"
      ]
     },
     "execution_count": 3,
     "metadata": {},
     "output_type": "execute_result"
    }
   ],
   "source": [
    "\"Q1. For the given dataset perform the type casting (convert the datatypes, ex. float to int)\"\n",
    "\n",
    "################## Type casting###############################################\n",
    "OnlineRetail.dtypes"
   ]
  },
  {
   "cell_type": "code",
   "execution_count": 4,
   "id": "1ce26acc",
   "metadata": {},
   "outputs": [
    {
     "data": {
      "text/plain": [
       "dtype('int64')"
      ]
     },
     "execution_count": 4,
     "metadata": {},
     "output_type": "execute_result"
    }
   ],
   "source": [
    "#type casting\n",
    "# Now we will convert 'float64' into 'int64' type. \n",
    "OnlineRetail['UnitPrice'] = OnlineRetail['UnitPrice'].astype('int64') \n",
    "OnlineRetail['UnitPrice'].dtypes"
   ]
  },
  {
   "cell_type": "code",
   "execution_count": 5,
   "id": "0355ed57",
   "metadata": {},
   "outputs": [
    {
     "data": {
      "text/plain": [
       "'1ts we have to fill NA values'"
      ]
     },
     "execution_count": 5,
     "metadata": {},
     "output_type": "execute_result"
    }
   ],
   "source": [
    "\"Error while converting CustomerID(float64) to (int64)\"\n",
    "\"Cannot convert non-finite values (NA or inf) to integer\"\n",
    "\"1ts we have to fill NA values\""
   ]
  },
  {
   "cell_type": "code",
   "execution_count": 6,
   "id": "5491d075",
   "metadata": {},
   "outputs": [
    {
     "data": {
      "text/plain": [
       "0"
      ]
     },
     "execution_count": 6,
     "metadata": {},
     "output_type": "execute_result"
    }
   ],
   "source": [
    "from sklearn.impute import SimpleImputer\n",
    "\n",
    "# Mean Imputer \n",
    "mean_imputer = SimpleImputer(missing_values=np.nan, strategy='mean')\n",
    "OnlineRetail[\"CustomerID\"] = pd.DataFrame(mean_imputer.fit_transform(OnlineRetail[[\"CustomerID\"]]))\n",
    "OnlineRetail[\"CustomerID\"].isnull().sum()  # all 2 records replaced by mean "
   ]
  },
  {
   "cell_type": "code",
   "execution_count": 7,
   "id": "c9880d13",
   "metadata": {},
   "outputs": [
    {
     "data": {
      "text/plain": [
       "dtype('int64')"
      ]
     },
     "execution_count": 7,
     "metadata": {},
     "output_type": "execute_result"
    }
   ],
   "source": [
    "# Now we will convert 'float64' into 'int64' type. \n",
    "OnlineRetail['CustomerID'] = OnlineRetail['CustomerID'].astype('int64') \n",
    "OnlineRetail['CustomerID'].dtypes"
   ]
  },
  {
   "cell_type": "markdown",
   "id": "5e4f771c",
   "metadata": {},
   "source": [
    "## Duplication"
   ]
  },
  {
   "cell_type": "code",
   "execution_count": 8,
   "id": "a3b71879",
   "metadata": {},
   "outputs": [
    {
     "data": {
      "text/plain": [
       "5284"
      ]
     },
     "execution_count": 8,
     "metadata": {},
     "output_type": "execute_result"
    }
   ],
   "source": [
    "\"Q2. Check for the duplicate values, and handle the duplicate values (ex. drop)\"\n",
    "\n",
    "#Identify duplicates records in the data\n",
    "duplicate = OnlineRetail.duplicated()\n",
    "sum(duplicate) # 5284"
   ]
  },
  {
   "cell_type": "code",
   "execution_count": 9,
   "id": "dde376a9",
   "metadata": {},
   "outputs": [],
   "source": [
    "#Removing Duplicates\n",
    "data1 = OnlineRetail.drop_duplicates() "
   ]
  },
  {
   "cell_type": "code",
   "execution_count": 11,
   "id": "b747ff2d",
   "metadata": {},
   "outputs": [
    {
     "data": {
      "image/png": "[encoded data removed]",
      "text/plain": [
       "<Figure size 432x288 with 1 Axes>"
      ]
     },
     "metadata": {
      "needs_background": "light"
     },
     "output_type": "display_data"
    },
    {
     "data": {
      "image/png": "[encoded data removed]",
      "text/plain": [
       "<Figure size 432x288 with 1 Axes>"
      ]
     },
     "metadata": {
      "needs_background": "light"
     },
     "output_type": "display_data"
    },
    {
     "data": {
      "image/png": "[encoded data removed]",
      "text/plain": [
       "<Figure size 432x288 with 1 Axes>"
      ]
     },
     "metadata": {
      "needs_background": "light"
     },
     "output_type": "display_data"
    },
    {
     "data": {
      "image/png": "[encoded data removed]",
      "text/plain": [
       "<Figure size 432x288 with 1 Axes>"
      ]
     },
     "metadata": {
      "needs_background": "light"
     },
     "output_type": "display_data"
    },
    {
     "data": {
      "image/png": "[encoded data removed]",
      "text/plain": [
       "<Figure size 432x288 with 1 Axes>"
      ]
     },
     "metadata": {
      "needs_background": "light"
     },
     "output_type": "display_data"
    },
    {
     "data": {
      "image/png": "[encoded data removed]",
      "text/plain": [
       "<Figure size 432x288 with 1 Axes>"
      ]
     },
     "metadata": {
      "needs_background": "light"
     },
     "output_type": "display_data"
    }
   ],
   "source": [
    "\"Q3. Do the data analysis (EDA)?\"\n",
    "\"Such as histogram, boxplot, scatterplot etc \"\n",
    "\n",
    "#Graphical Representation\n",
    "import matplotlib.pyplot as plt # mostly used for visualization purposes \n",
    "import numpy as np\n",
    "\n",
    "\n",
    "#Quantity\n",
    "plt.hist(OnlineRetail.Quantity);plt.show() #histogram\n",
    "\n",
    "plt.boxplot(OnlineRetail.Quantity);plt.show() #boxplot\n",
    "\n",
    "#UnitPrice\n",
    "plt.hist(OnlineRetail.UnitPrice);plt.show() #histogram\n",
    "\n",
    "plt.boxplot(OnlineRetail.UnitPrice);plt.show() #boxplot\n",
    "\n",
    "#CustomerID\n",
    "plt.hist(OnlineRetail.CustomerID);plt.show() #histogram\n",
    "\n",
    "plt.boxplot(OnlineRetail.CustomerID);plt.show() #boxplot"
   ]
  },
  {
   "cell_type": "code",
   "execution_count": null,
   "id": "56efb482",
   "metadata": {},
   "outputs": [],
   "source": []
  }
 ],
 "metadata": {
  "kernelspec": {
   "display_name": "Python 3 (ipykernel)",
   "language": "python",
   "name": "python3"
  },
  "language_info": {
   "codemirror_mode": {
    "name": "ipython",
    "version": 3
   },
   "file_extension": ".py",
   "mimetype": "text/x-python",
   "name": "python",
   "nbconvert_exporter": "python",
   "pygments_lexer": "ipython3",
   "version": "3.9.7"
  }
 },
 "nbformat": 4,
 "nbformat_minor": 5
}

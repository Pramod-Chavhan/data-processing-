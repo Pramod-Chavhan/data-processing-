{
 "cells": [
  {
   "cell_type": "markdown",
   "id": "3423fbcc",
   "metadata": {},
   "source": [
    "# String Manipulation"
   ]
  },
  {
   "cell_type": "markdown",
   "id": "c2aaa41f",
   "metadata": {},
   "source": [
    "##### String Manipulation\n",
    "##### 1.\tCreate a string “Grow Gratitude”."
   ]
  },
  {
   "cell_type": "code",
   "execution_count": 1,
   "id": "58bfaadc",
   "metadata": {},
   "outputs": [
    {
     "name": "stdout",
     "output_type": "stream",
     "text": [
      "G\n"
     ]
    }
   ],
   "source": [
    "# a)\tHow do you access the letter “G” of “Growth”?\n",
    "Name = \"Grow Gratitude\"\n",
    "print(Name[0])"
   ]
  },
  {
   "cell_type": "code",
   "execution_count": 2,
   "id": "1eccee06",
   "metadata": {},
   "outputs": [
    {
     "name": "stdout",
     "output_type": "stream",
     "text": [
      "14\n"
     ]
    }
   ],
   "source": [
    "# b)\tHow do you find the length of the string?\n",
    "print(len(Name))"
   ]
  },
  {
   "cell_type": "code",
   "execution_count": 3,
   "id": "3455f2f2",
   "metadata": {},
   "outputs": [
    {
     "data": {
      "text/plain": [
       "2"
      ]
     },
     "execution_count": 3,
     "metadata": {},
     "output_type": "execute_result"
    }
   ],
   "source": [
    "# c)\tCount how many times “G” is in the string.\n",
    "count = Name.count('G')\n",
    "count"
   ]
  },
  {
   "cell_type": "markdown",
   "id": "b2cc339d",
   "metadata": {},
   "source": [
    "##### 2.\tCreate a string “Being aware of a single shortcoming within yourself is far more useful than being aware of a thousand in someone else.”"
   ]
  },
  {
   "cell_type": "code",
   "execution_count": 4,
   "id": "dc2a28bf",
   "metadata": {},
   "outputs": [
    {
     "data": {
      "text/plain": [
       "118"
      ]
     },
     "execution_count": 4,
     "metadata": {},
     "output_type": "execute_result"
    }
   ],
   "source": [
    "# a)\tCount the number of characters in the string.\n",
    "\n",
    "string = \"Being aware of a single shortcoming within yourself is far more useful than being aware of a thousand in someone else.\"\n",
    "string\n",
    "\n",
    "def count_chars(txt):\n",
    "\tresult = 0\n",
    "\tfor char in txt:\n",
    "\t\tresult += 1     # same as result = result + 1\n",
    "\treturn result\n",
    "count_chars(string)"
   ]
  },
  {
   "cell_type": "code",
   "execution_count": 5,
   "id": "9a630540",
   "metadata": {},
   "outputs": [
    {
     "name": "stdout",
     "output_type": "stream",
     "text": [
      "118\n"
     ]
    }
   ],
   "source": [
    "#or\n",
    "print(len(string))"
   ]
  },
  {
   "cell_type": "markdown",
   "id": "006c6761",
   "metadata": {},
   "source": [
    "##### 3.\tCreate a string \"Idealistic as it may sound, altruism should be the driving force in business, not just competition and a desire for wealth\""
   ]
  },
  {
   "cell_type": "code",
   "execution_count": 6,
   "id": "aee30e82",
   "metadata": {},
   "outputs": [
    {
     "name": "stdout",
     "output_type": "stream",
     "text": [
      "I\n",
      "Ide\n",
      "lth\n"
     ]
    }
   ],
   "source": [
    "idea = \"Idealistic as it may sound, altruism should be the driving force in business, not just competition and a desire for wealth\"\n",
    "idea\n",
    "# a)\tget one char of the word\n",
    "print(idea[0])\n",
    "# b)\tget the first three char\n",
    "print(idea[0:3])\n",
    "# c)\tget the last three char\n",
    "print(idea[-3:])"
   ]
  },
  {
   "cell_type": "markdown",
   "id": "bd096548",
   "metadata": {},
   "source": [
    "##### 4.\tcreate a string \"stay positive and optimistic\". "
   ]
  },
  {
   "cell_type": "code",
   "execution_count": 7,
   "id": "8176e916",
   "metadata": {},
   "outputs": [
    {
     "name": "stdout",
     "output_type": "stream",
     "text": [
      "stay positive and optimistic\n",
      "['stay', 'positive', 'and', 'optimistic']\n"
     ]
    },
    {
     "data": {
      "text/plain": [
       "True"
      ]
     },
     "execution_count": 7,
     "metadata": {},
     "output_type": "execute_result"
    }
   ],
   "source": [
    "create = \"stay positive and optimistic\"\n",
    "print(create)\n",
    "# Now write a code to split on whitespace.\n",
    "print(create.split(' ', 3 ))\n",
    "# Write a code to find if:\n",
    "# a)\tThe string starts with “H”\n",
    "create.startswith(\"H\")\n",
    "# b)\tThe string ends with “d”\n",
    "create.endswith(\"d\")\n",
    "# c)\tThe string ends with “c”\n",
    "create.endswith(\"c\")"
   ]
  },
  {
   "cell_type": "markdown",
   "id": "5a4159f2",
   "metadata": {},
   "source": [
    "##### 5.\tWrite a code to print \" 🪐 \" one hundred and eight times. (only in python)\""
   ]
  },
  {
   "cell_type": "code",
   "execution_count": 8,
   "id": "48a70e76",
   "metadata": {},
   "outputs": [
    {
     "data": {
      "text/plain": [
       "' 🪐  🪐  🪐  🪐  🪐  🪐  🪐  🪐  🪐  🪐  🪐  🪐  🪐  🪐  🪐  🪐  🪐  🪐  🪐  🪐  🪐  🪐  🪐  🪐  🪐  🪐  🪐  🪐  🪐  🪐  🪐  🪐  🪐  🪐  🪐  🪐  🪐  🪐  🪐  🪐  🪐  🪐  🪐  🪐  🪐  🪐  🪐  🪐  🪐  🪐  🪐  🪐  🪐  🪐  🪐  🪐  🪐  🪐  🪐  🪐  🪐  🪐  🪐  🪐  🪐  🪐  🪐  🪐  🪐  🪐  🪐  🪐  🪐  🪐  🪐  🪐  🪐  🪐  🪐  🪐  🪐  🪐  🪐  🪐  🪐  🪐  🪐  🪐  🪐  🪐  🪐  🪐  🪐  🪐  🪐  🪐  🪐  🪐  🪐  🪐  🪐  🪐  🪐  🪐  🪐  🪐  🪐  🪐 '"
      ]
     },
     "execution_count": 8,
     "metadata": {},
     "output_type": "execute_result"
    }
   ],
   "source": [
    "code = \" 🪐 \" * 108\n",
    "code"
   ]
  },
  {
   "cell_type": "markdown",
   "id": "c17e31c5",
   "metadata": {},
   "source": [
    "##### 7.\tCreate a string “Grow Gratitude” and write a code to replace “Grow” with “Growth of”\""
   ]
  },
  {
   "cell_type": "code",
   "execution_count": 9,
   "id": "e135cb21",
   "metadata": {},
   "outputs": [
    {
     "data": {
      "text/plain": [
       "'Growth of Gratitude'"
      ]
     },
     "execution_count": 9,
     "metadata": {},
     "output_type": "execute_result"
    }
   ],
   "source": [
    "c = \"Grow Gratitude\"\n",
    "c.replace(\"Grow\",\"Growth of\")"
   ]
  },
  {
   "cell_type": "markdown",
   "id": "5145f25a",
   "metadata": {},
   "source": [
    "##### 8.\tA story was printed in a pdf, which isn’t making any sense. i.e.:\"“.elgnujehtotniffo deps mehtfohtoB .eerfnoilehttesotseporeht no dewangdnanar eh ,ylkciuQ .elbuortninoilehtdecitondnatsapdeklawesuomeht ,nooS .repmihwotdetratsdnatuotegotgnilggurts saw noilehT .eert a tsniagapumihdeityehT .mehthtiwnoilehtkootdnatserofehtotniemacsretnuhwef a ,yad enO .ogmihteldnaecnedifnocs’esuomeht ta dehgualnoilehT ”.emevasuoy fi yademosuoyotplehtaergfo eb lliw I ,uoyesimorp I“ .eerfmihtesotnoilehtdetseuqeryletarepsedesuomehtnehwesuomehttaeottuoba saw eH .yrgnaetiuqpuekow eh dna ,peels s’noilehtdebrutsidsihT .nufroftsujydobsihnwoddnapugninnurdetratsesuom a nehwelgnujehtnignipeelsecno saw noil A”\n",
    "###### You have noticed that the story is printed in a reversed order. Rectify the same and write a code to print the same story in a correct order."
   ]
  },
  {
   "cell_type": "code",
   "execution_count": 15,
   "id": "4e5bcb7a",
   "metadata": {},
   "outputs": [
    {
     "name": "stdout",
     "output_type": "stream",
     "text": [
      ".elgnuj eht otni ffo deps meht fo htoB .eerf noil eht tes ot sepor eht no dewang dna nar eh ,ylkciuQ .elbuort ni noil eht deciton dna tsap deklaw esuom eht ,nooS .repmihw ot detrats dna tuo teg ot gnilggurts saw noil ehT .eert a tsniaga pu mih deit yehT .meht htiw noil eht koot dna tserof eht ot ni emac sretnuh wef a ,yad enO .og mih tel dna ecnedifnoc s’esuom eht ta dehgual noil ehT ”.em evas uoy fi yademos uoy ot pleh taerg fo eb lliw I ,uoy esimorp I“ .eerf mih tes ot noil eht detseuqer yletarepsed esuom eht nehw esuom eht tae ot tuoba saw eH .yrgna etiuq pu ekow eh dna ,peels s’noil eht debrutsid sihT .nuf rof tsuj ydob sih nwod dna pu gninnur detrats esuom a nehw elgnuj eht ni gnipeels ecno saw noil A\n",
      "\n",
      " A lion was once sleeping in the jungle when a mouse started running up and down his body just for fun. This disturbed the lion’s sleep, and he woke up quite angry. He was about to eat the mouse when the mouse desperately requested the lion to set him free. “I promise you, I will be of great help to you someday if you save me.” The lion laughed at the mouse’s confidence and let him go. One day, a few hunters came in to the forest and took the lion with them. They tied him up against a tree. The lion was struggling to get out and started to whimper. Soon, the mouse walked past and noticed the lion in trouble. Quickly, he ran and gnawed on the ropes to set the lion free. Both of them sped off into the jungle.\n"
     ]
    }
   ],
   "source": [
    "story = \".elgnuj eht otni ffo deps meht fo htoB .eerf noil eht tes ot sepor eht no dewang dna nar eh ,ylkciuQ .elbuort ni noil eht deciton dna tsap deklaw esuom eht ,nooS .repmihw ot detrats dna tuo teg ot gnilggurts saw noil ehT .eert a tsniaga pu mih deit yehT .meht htiw noil eht koot dna tserof eht ot ni emac sretnuh wef a ,yad enO .og mih tel dna ecnedifnoc s’esuom eht ta dehgual noil ehT ”.em evas uoy fi yademos uoy ot pleh taerg fo eb lliw I ,uoy esimorp I“ .eerf mih tes ot noil eht detseuqer yletarepsed esuom eht nehw esuom eht tae ot tuoba saw eH .yrgna etiuq pu ekow eh dna ,peels s’noil eht debrutsid sihT .nuf rof tsuj ydob sih nwod dna pu gninnur detrats esuom a nehw elgnuj eht ni gnipeels ecno saw noil A\"\n",
    "print(story)\n",
    "\n",
    "print('\\n',story[::-1])"
   ]
  },
  {
   "cell_type": "code",
   "execution_count": null,
   "id": "53d0f647",
   "metadata": {},
   "outputs": [],
   "source": []
  }
 ],
 "metadata": {
  "kernelspec": {
   "display_name": "Python 3 (ipykernel)",
   "language": "python",
   "name": "python3"
  },
  "language_info": {
   "codemirror_mode": {
    "name": "ipython",
    "version": 3
   },
   "file_extension": ".py",
   "mimetype": "text/x-python",
   "name": "python",
   "nbconvert_exporter": "python",
   "pygments_lexer": "ipython3",
   "version": "3.9.7"
  }
 },
 "nbformat": 4,
 "nbformat_minor": 5
}
